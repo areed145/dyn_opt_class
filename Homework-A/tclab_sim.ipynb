{
 "cells": [
  {
   "cell_type": "markdown",
   "metadata": {},
   "source": [
    "# TC Lab First-Principles Simulation\n",
    "Imports"
   ]
  },
  {
   "cell_type": "code",
   "execution_count": 11,
   "metadata": {},
   "outputs": [],
   "source": [
    "import numpy as np\n",
    "import time\n",
    "import matplotlib.pyplot as plt\n",
    "from gekko import GEKKO"
   ]
  },
  {
   "cell_type": "markdown",
   "metadata": {},
   "source": [
    "Set up the model"
   ]
  },
  {
   "cell_type": "code",
   "execution_count": 12,
   "metadata": {},
   "outputs": [],
   "source": [
    "m = GEKKO(remote=False)"
   ]
  },
  {
   "cell_type": "markdown",
   "metadata": {},
   "source": [
    "Set up the model time array (10 minutes, 1 second intervals)"
   ]
  },
  {
   "cell_type": "code",
   "execution_count": 13,
   "metadata": {},
   "outputs": [],
   "source": [
    "m.time = np.linspace(0, 60*10, 60*10+1)"
   ]
  },
  {
   "cell_type": "markdown",
   "metadata": {},
   "source": [
    "Define some constants"
   ]
  },
  {
   "cell_type": "code",
   "execution_count": 14,
   "metadata": {},
   "outputs": [],
   "source": [
    "t0 = 23.0 + 273.15    # Initial temperature\n",
    "tAmb = 23.0 + 273.15  # Ambient temperature\n",
    "area = 12.0e-4   # Area\n",
    "mass = 4.0e-3\n",
    "Cp = 500.0\n",
    "sig = 5.67e-8    # Stefsn-Boltzmann constant\n",
    "eps = 0.9        # Emissivity \n",
    "alpha = 0.01         # Heater scaling facto"
   ]
  },
  {
   "cell_type": "markdown",
   "metadata": {},
   "source": [
    "GEKKO Parameters"
   ]
  },
  {
   "cell_type": "code",
   "execution_count": 15,
   "metadata": {},
   "outputs": [],
   "source": [
    "q0 = np.zeros(m.time.shape)\n",
    "q0[:60]     = 0.0\n",
    "q0[60:240]  = 100.0\n",
    "q0[240:300] = 0.0\n",
    "q0[300:360] = 100.0\n",
    "q0[360:]    = 0.0\n",
    "Q = m.Param(value=q0)\n",
    "\n",
    "U = m.Param(value=10.0)"
   ]
  },
  {
   "cell_type": "markdown",
   "metadata": {},
   "source": [
    "GEKKO Variables"
   ]
  },
  {
   "cell_type": "code",
   "execution_count": 16,
   "metadata": {},
   "outputs": [],
   "source": [
    "T = m.Var(value=t0)"
   ]
  },
  {
   "cell_type": "markdown",
   "metadata": {},
   "source": [
    "GEKKO Equations"
   ]
  },
  {
   "cell_type": "code",
   "execution_count": 17,
   "metadata": {},
   "outputs": [
    {
     "data": {
      "text/plain": [
       "<gekko.gekko.EquationObj at 0x25dd5278898>"
      ]
     },
     "execution_count": 17,
     "metadata": {},
     "output_type": "execute_result"
    }
   ],
   "source": [
    "m.Equation(mass*Cp*T.dt()== \\\n",
    "           U*area*(tAmb-T) \\\n",
    "           + eps*sig*area*(tAmb**4-T**4) \\\n",
    "           + alpha*Q)"
   ]
  },
  {
   "cell_type": "markdown",
   "metadata": {},
   "source": [
    "GEKKO simulation options"
   ]
  },
  {
   "cell_type": "code",
   "execution_count": 18,
   "metadata": {},
   "outputs": [],
   "source": [
    "m.options.IMODE = 4"
   ]
  },
  {
   "cell_type": "markdown",
   "metadata": {},
   "source": [
    "Solve the model"
   ]
  },
  {
   "cell_type": "code",
   "execution_count": 19,
   "metadata": {},
   "outputs": [],
   "source": [
    "m.solve(disp=False)"
   ]
  },
  {
   "cell_type": "markdown",
   "metadata": {},
   "source": [
    "Display the results"
   ]
  },
  {
   "cell_type": "code",
   "execution_count": 20,
   "metadata": {},
   "outputs": [
    {
     "data": {
      "image/png": "[encoded data removed]",
      "text/plain": [
       "<Figure size 432x288 with 2 Axes>"
      ]
     },
     "metadata": {},
     "output_type": "display_data"
    }
   ],
   "source": [
    "plt.figure(1)\n",
    "\n",
    "plt.subplot(2,1,1)\n",
    "plt.plot(m.time/60.0,np.array(T.value)-273.15,'r-')\n",
    "plt.ylabel('Temperature (degC)')\n",
    "plt.legend(['Step Test (0-100% heater)'])\n",
    "\n",
    "plt.subplot(2,1,2)\n",
    "plt.plot(m.time/60.0,np.array(Q.value),'b-')\n",
    "plt.ylabel('Heater (%)')\n",
    "plt.xlabel('Time (min)')\n",
    "\n",
    "plt.show()"
   ]
  },
  {
   "cell_type": "code",
   "execution_count": null,
   "metadata": {},
   "outputs": [],
   "source": []
  }
 ],
 "metadata": {
  "kernelspec": {
   "display_name": "Python 3",
   "language": "python",
   "name": "python3"
  },
  "language_info": {
   "codemirror_mode": {
    "name": "ipython",
    "version": 3
   },
   "file_extension": ".py",
   "mimetype": "text/x-python",
   "name": "python",
   "nbconvert_exporter": "python",
   "pygments_lexer": "ipython3",
   "version": "3.6.5"
  }
 },
 "nbformat": 4,
 "nbformat_minor": 2
}
